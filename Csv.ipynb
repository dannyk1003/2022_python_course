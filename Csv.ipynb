{
 "cells": [
  {
   "cell_type": "code",
   "execution_count": null,
   "metadata": {},
   "outputs": [],
   "source": [
    "import csv\n",
    "with open('MI_5MINS_HIST.csv', encoding='big5') as f:\n",
    "    rows = []\n",
    "    for row in list(csv.reader(f))[1:]:\n",
    "        rows.append(row)\n",
    "        print(row[0], row[4], sep='\\t')\n",
    "    # import pandas as pd\n",
    "    # print(pd.DataFrame(rows))"
   ]
  },
  {
   "cell_type": "code",
   "execution_count": null,
   "metadata": {},
   "outputs": [],
   "source": [
    "import csv\n",
    "with open('MI_5MINS_HIST.csv', encoding='big5') as f:\n",
    "    print('日期\\t\\t收盤指數')\n",
    "    for row in csv.DictReader(list(f)[1:]):\n",
    "        print(row['日期'], row['收盤指數'], sep='\\t')\n",
    "        \n",
    "    # print(list(csv.DictReader(list(f)[1:])))\n",
    "    # import pandas as pd\n",
    "    # print(pd.DataFrame(csv.DictReader(list(f)[1:])))\n"
   ]
  }
 ],
 "metadata": {
  "kernelspec": {
   "display_name": "Python 3.8.10 64-bit",
   "language": "python",
   "name": "python3"
  },
  "language_info": {
   "name": "python",
   "version": "3.8.10"
  },
  "orig_nbformat": 4,
  "vscode": {
   "interpreter": {
    "hash": "f544ce1a915a9875fad91c894e2c0bcad4b7a79945aa6027ef3ad27810072aa6"
   }
  }
 },
 "nbformat": 4,
 "nbformat_minor": 2
}
