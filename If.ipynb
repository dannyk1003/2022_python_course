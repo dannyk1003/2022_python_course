{
 "cells": [
  {
   "cell_type": "code",
   "execution_count": null,
   "metadata": {},
   "outputs": [],
   "source": [
    "score = int(input('enter score : '))\n",
    "if score >= 60:\n",
    "    print('pass')\n",
    "else:\n",
    "    print('fail')"
   ]
  },
  {
   "cell_type": "code",
   "execution_count": null,
   "metadata": {},
   "outputs": [],
   "source": [
    "score = int(input('enter score : '))\n",
    "if score >= 60:\n",
    "    print('pass')\n",
    "print('doing good!')"
   ]
  },
  {
   "cell_type": "code",
   "execution_count": null,
   "metadata": {},
   "outputs": [],
   "source": [
    "score = int(input('plz enter score : '))\n",
    "while score <1 or score > 100:\n",
    "    print('enter again!')\n",
    "    score = int(input('plz enter score : '))\n",
    "if score >= 90:\n",
    "    print('A')\n",
    "elif score >= 80:\n",
    "    print('B')\n",
    "elif score >= 70:\n",
    "    print('C')\n",
    "elif score >= 60:\n",
    "    print('D')\n",
    "else:\n",
    "    print('F')\n",
    "\n",
    "\n",
    "'''\n",
    "score = input('plz enter score : ') # str vs str\n",
    "if score >= '90':\n",
    "    print('A')\n",
    "elif score >= '80':\n",
    "    print('B')\n",
    "elif score >= '70':\n",
    "    print('C')\n",
    "elif score >= '60':\n",
    "    print('D')\n",
    "else:\n",
    "    print('F')\n",
    "\n",
    "\n",
    "score = int(input('plz enter score : ')) # only one time\n",
    "if score < 1 or score > 100:\n",
    "    print('enter again!')\n",
    "elif score >= 90:\n",
    "    print('A')\n",
    "elif score >= 80:\n",
    "    print('B')\n",
    "elif score >= 70:\n",
    "    print('C')\n",
    "elif score >= 60:\n",
    "    print('D')\n",
    "else:\n",
    "    print('F')\n",
    "'''"
   ]
  }
 ],
 "metadata": {
  "kernelspec": {
   "display_name": "Python 3.8.10 64-bit",
   "language": "python",
   "name": "python3"
  },
  "language_info": {
   "name": "python",
   "version": "3.8.10"
  },
  "orig_nbformat": 4,
  "vscode": {
   "interpreter": {
    "hash": "f544ce1a915a9875fad91c894e2c0bcad4b7a79945aa6027ef3ad27810072aa6"
   }
  }
 },
 "nbformat": 4,
 "nbformat_minor": 2
}
