{
 "cells": [
  {
   "cell_type": "code",
   "execution_count": null,
   "metadata": {},
   "outputs": [],
   "source": [
    "def sum123(n):\n",
    "    result = 0\n",
    "    for i in n:\n",
    "        result += i\n",
    "    return result\n",
    "\n",
    "print(sum123([10,20,30,40]))\n",
    "\n",
    "\n",
    "\n",
    "def max123(m, n):\n",
    "    return m if m > n else n\n",
    "\n",
    "print(max123(123,321))"
   ]
  },
  {
   "cell_type": "code",
   "execution_count": null,
   "metadata": {},
   "outputs": [],
   "source": [
    "def sum124(nums):\n",
    "    r = 0\n",
    "    for i in nums:\n",
    "        r += i\n",
    "    print(r)\n",
    "\n",
    "sum124([10,20,30])\n",
    "\n",
    "\n",
    "def gcd(m, n):\n",
    "    if n == 0:\n",
    "        return m\n",
    "    else:\n",
    "        print(m, n)\n",
    "        return gcd(n, m%n)\n",
    "        \n",
    "print(gcd(105,252))\n",
    "\n",
    "def gcdx(m,n):\n",
    "    while n != 0:\n",
    "        n, m = m % n, n\n",
    "    print(m) \n",
    "\n",
    "gcdx(105,252)\n",
    "gcdx(6,9)"
   ]
  },
  {
   "cell_type": "code",
   "execution_count": 3,
   "metadata": {},
   "outputs": [
    {
     "name": "stdout",
     "output_type": "stream",
     "text": [
      "30\n",
      "60\n"
     ]
    }
   ],
   "source": [
    "def sum123(a,b):\n",
    "     return a+b\n",
    "\n",
    "def sum123(a,b,c=0):\n",
    "    return a+b+c\n",
    "\n",
    "print(sum123(10,20))\n",
    "print(sum123(10,20,30))\n",
    "\n"
   ]
  },
  {
   "cell_type": "code",
   "execution_count": null,
   "metadata": {},
   "outputs": [],
   "source": [
    "def sum123(nums):\n",
    "    result = 0\n",
    "    for n in nums:\n",
    "        result += n\n",
    "    return result\n",
    "\n",
    "\n",
    "def sum124(*nums):\n",
    "    result = 0\n",
    "    for n in nums:\n",
    "        result += n\n",
    "    return result\n",
    "\n",
    "print(sum123([10,20,30]))\n",
    "print(sum124(10,20,30))"
   ]
  },
  {
   "cell_type": "code",
   "execution_count": null,
   "metadata": {},
   "outputs": [],
   "source": [
    "def sum123(a,b,c):\n",
    "    return a+b+c\n",
    "\n",
    "data = {'a':10,'b':20,'c':30}\n",
    "print(sum123(*data))\n",
    "print(sum123(**data))\n",
    "\n",
    "'''\n",
    "*data接收任意數量的位置型參數  \n",
    "**data接收任意數量的關鍵字參數\n",
    "'''"
   ]
  },
  {
   "cell_type": "code",
   "execution_count": null,
   "metadata": {},
   "outputs": [],
   "source": [
    "def some(*arg1, **arg2):\n",
    "    print('arg1 = ' , arg1)\n",
    "    print('arg2 = ' , arg2)\n",
    "\n",
    "some(10,20,30)\n",
    "some(a=10,b=20,c=30)\n",
    "\n",
    "\n",
    "'''\n",
    "*data接收任意數量的位置型參數  \n",
    "**data接收任意數量的關鍵字參數\n",
    "'''"
   ]
  },
  {
   "cell_type": "code",
   "execution_count": null,
   "metadata": {},
   "outputs": [],
   "source": [
    "def max123(m, n):\n",
    "    return m if m > n else n\n",
    "\n",
    "print(type(max123))\n",
    "print(type(max))"
   ]
  },
  {
   "cell_type": "code",
   "execution_count": null,
   "metadata": {},
   "outputs": [],
   "source": [
    "text = ['aBCD', 'Bcd', 'Cd']\n",
    "nums = [3, 1, 2, 5, 4]\n",
    "print(sorted(nums))\n",
    "print(sorted(nums, reverse=True))\n",
    "\n",
    "print(sorted(text))\n",
    "print(sorted(text, key = len))\n",
    "print(sorted(text, key = str.upper))\n",
    "print(str.upper('abc'))"
   ]
  },
  {
   "cell_type": "code",
   "execution_count": null,
   "metadata": {},
   "outputs": [],
   "source": [
    "def check(n):\n",
    "    if n < 5:\n",
    "        return n\n",
    "    else:\n",
    "        return 6\n",
    "\n",
    "\n",
    "nums = [4,7,2,5,1,6,3,8]\n",
    "print(sorted(nums, key=check))\n",
    "\n",
    "\n"
   ]
  },
  {
   "cell_type": "code",
   "execution_count": null,
   "metadata": {},
   "outputs": [],
   "source": [
    "# def nums(a,b):\n",
    "#     return a + b\n",
    "\n",
    "nums = [4,2,3,5,1]\n",
    "\n",
    "# print(type(nums))\n",
    "\n",
    "sorted(nums)\n",
    "print(nums)\n",
    "nums.sort()\n",
    "print(nums)"
   ]
  },
  {
   "cell_type": "code",
   "execution_count": null,
   "metadata": {},
   "outputs": [],
   "source": [
    "def test(x):\n",
    "    x = 20\n",
    "    print(x)\n",
    "\n",
    "x = 10\n",
    "test(10)\n",
    "print(10)"
   ]
  },
  {
   "cell_type": "code",
   "execution_count": null,
   "metadata": {},
   "outputs": [],
   "source": [
    "def test():\n",
    "    global x\n",
    "    x = 20\n",
    "    print(x)\n",
    "    print(locals())\n",
    "\n",
    "x = 10\n",
    "test()\n",
    "print(x)\n",
    "print(locals())"
   ]
  }
 ],
 "metadata": {
  "kernelspec": {
   "display_name": "Python 3.8.10 64-bit",
   "language": "python",
   "name": "python3"
  },
  "language_info": {
   "codemirror_mode": {
    "name": "ipython",
    "version": 3
   },
   "file_extension": ".py",
   "mimetype": "text/x-python",
   "name": "python",
   "nbconvert_exporter": "python",
   "pygments_lexer": "ipython3",
   "version": "3.8.10"
  },
  "orig_nbformat": 4,
  "vscode": {
   "interpreter": {
    "hash": "f544ce1a915a9875fad91c894e2c0bcad4b7a79945aa6027ef3ad27810072aa6"
   }
  }
 },
 "nbformat": 4,
 "nbformat_minor": 2
}
