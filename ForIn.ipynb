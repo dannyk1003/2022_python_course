{
 "cells": [
  {
   "cell_type": "code",
   "execution_count": null,
   "metadata": {},
   "outputs": [],
   "source": [
    "'''\n",
    "for x in range(2,10):\n",
    "    for y in range(1,10):\n",
    "        print(x , '*' , y , '=' , x*y , end='  ',sep='')\n",
    "    print()\n",
    "'''\n",
    "\n",
    "a,b = [2,1]\n",
    "while a <= 9:\n",
    "    b = 1\n",
    "    while b <= 9:\n",
    "        print(a , '*' , b , '=' , a*b , end='  ',sep='')\n",
    "        b = b+1\n",
    "    print()\n",
    "    a = a+1"
   ]
  },
  {
   "cell_type": "code",
   "execution_count": null,
   "metadata": {},
   "outputs": [],
   "source": [
    "nums = [10,20,30,40,50]\n",
    "\n",
    "for num in nums:\n",
    "    print(num)\n",
    "\n",
    "print(list(range(10)))\n",
    "\n",
    "for r in range(10):\n",
    "    print(r , end = ' ') # no \\n\n",
    "print() # \\n\n",
    "\n",
    "text = 'Hello'\n",
    "for t in text:\n",
    "    print(t)"
   ]
  },
  {
   "cell_type": "code",
   "execution_count": null,
   "metadata": {},
   "outputs": [],
   "source": [
    "text = 'Hello!'\n",
    "nums = range(len(text))\n",
    "for n in nums:\n",
    "    print(n,text[n])"
   ]
  },
  {
   "cell_type": "code",
   "execution_count": null,
   "metadata": {},
   "outputs": [],
   "source": [
    "text = 'Hello!!!'\n",
    "nums = range(len(text))\n",
    "print(zip(nums , text))\n",
    "print(list(zip(nums , text)))\n",
    "\n",
    "for n,t in list(zip(nums,text)): # zip(a,b) -> combine 2 same len data\n",
    "    print(n,t)\n",
    "\n",
    "nn = [10,20,30]\n",
    "a,b,c = nn\n",
    "print(a)\n",
    "\n",
    "\n",
    "print(list(zip(('a','b','c') , (1,2,3))))\n",
    "print(list(zip(('a','b','c') , (1,2,3)))[1])\n",
    "\n",
    "for n,t in zip(range(len(text)),text):\n",
    "    print(n,t)"
   ]
  },
  {
   "cell_type": "code",
   "execution_count": null,
   "metadata": {},
   "outputs": [],
   "source": [
    "print(list(enumerate('Hello'))) # enumerate = numbering item\n",
    "\n",
    "for n,t in enumerate('Hello',1): # start from 1\n",
    "    print(n,t)"
   ]
  },
  {
   "cell_type": "code",
   "execution_count": null,
   "metadata": {},
   "outputs": [],
   "source": [
    "nums = [10,20,30]\n",
    "nums2 = []\n",
    "for num in nums:\n",
    "    print(num**2)\n",
    "    nums2.append(num**2)\n",
    "print(nums2)\n",
    "\n",
    "###\n",
    "print([num**2 for num in nums])"
   ]
  },
  {
   "cell_type": "code",
   "execution_count": null,
   "metadata": {},
   "outputs": [],
   "source": [
    "nums = [11, 8, 9, 5, 4, 6, 3, 2]\n",
    "print([num for num in nums if num % 2 == 1])"
   ]
  },
  {
   "cell_type": "code",
   "execution_count": null,
   "metadata": {},
   "outputs": [],
   "source": [
    "nums = [[10,20,30],[40,50,60],[70,80,90]]\n",
    "\n",
    "nums3 = []\n",
    "\n",
    "for i in nums:\n",
    "    nums2 = []\n",
    "    for j in i:\n",
    "        #print(j + 2)\n",
    "        nums2.append(j + 2)\n",
    "    nums3.append(nums2)\n",
    "\n",
    "print(nums2)\n",
    "print(nums3)\n",
    "\n",
    "print([j + 2 for i in nums for j in i ])"
   ]
  }
 ],
 "metadata": {
  "kernelspec": {
   "display_name": "Python 3.8.10 64-bit",
   "language": "python",
   "name": "python3"
  },
  "language_info": {
   "name": "python",
   "version": "3.8.10"
  },
  "orig_nbformat": 4,
  "vscode": {
   "interpreter": {
    "hash": "f544ce1a915a9875fad91c894e2c0bcad4b7a79945aa6027ef3ad27810072aa6"
   }
  }
 },
 "nbformat": 4,
 "nbformat_minor": 2
}
