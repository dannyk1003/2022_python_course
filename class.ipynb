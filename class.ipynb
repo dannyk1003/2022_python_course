{
 "cells": [
  {
   "cell_type": "markdown",
   "metadata": {},
   "source": [
    "bank"
   ]
  },
  {
   "cell_type": "code",
   "execution_count": null,
   "metadata": {},
   "outputs": [],
   "source": [
    "def account(name, number, balance):\n",
    "    return {'name':name, 'number':number, 'balance':balance}\n",
    "\n",
    "def deposit(acct, amount):\n",
    "    acct['balance'] += amount\n",
    "\n",
    "def withdraw(acct, amount):\n",
    "    acct['balance'] -= amount\n",
    "\n",
    "def desc(acct):\n",
    "    return '<Account:{}>'.format(str(acct))"
   ]
  },
  {
   "cell_type": "markdown",
   "metadata": {},
   "source": [
    "bank2"
   ]
  },
  {
   "cell_type": "code",
   "execution_count": null,
   "metadata": {},
   "outputs": [],
   "source": [
    "class Account:\n",
    "    def __init__(self, name, number, balance):\n",
    "        self.name = name\n",
    "        self.number = number\n",
    "        self.balance = balance\n",
    "    def deposit(self, amount):\n",
    "        self.balance += amount\n",
    "    def withdraw(self, amount):\n",
    "        self.balance -= amount\n",
    "    def __str__(self):\n",
    "        #return '<Account:{}, {}, {}>'.format(self.name, self.number, self.balance)\n",
    "        return f'<Account:{self.name}, {self.number}, {self.balance}>'"
   ]
  },
  {
   "cell_type": "markdown",
   "metadata": {},
   "source": [
    "bank3"
   ]
  },
  {
   "cell_type": "code",
   "execution_count": null,
   "metadata": {},
   "outputs": [],
   "source": [
    "class Account:\n",
    "    #Constructor 建構子\n",
    "    def __init__(self, name, number, balance):\n",
    "        self.name = name\n",
    "        self.number = number\n",
    "        self.balance = balance\n",
    "    \n",
    "    def __str__(self): # return information\n",
    "        #return 'do nothing...'\n",
    "        return f'Account({self.name},{self.number},{self.balance})'\n",
    "        #return f'Account({name},{number},{balance})'\n",
    "\n",
    "    def __repr__(self):\n",
    "        return f'Account({self.name},{self.number},{self.balance})'\n",
    "\n",
    "    def __int__(self):\n",
    "        return self.balance\n",
    "\n",
    "    def my_name(self):\n",
    "        return self.name\n",
    "\n",
    "\n",
    "def account(name, number, balance):\n",
    "    return f'Account({name},{number},{balance})'"
   ]
  },
  {
   "cell_type": "markdown",
   "metadata": {},
   "source": [
    "Zoo"
   ]
  },
  {
   "cell_type": "code",
   "execution_count": null,
   "metadata": {},
   "outputs": [],
   "source": [
    "class bird:\n",
    "    def __init__(self, name):\n",
    "        self.name = name\n",
    "    def walk(self):\n",
    "        print(self.__str__(),'walking...')\n",
    "    def mew(self):\n",
    "        print(self.__str__(),'mew')\n",
    "    def __str__(self):\n",
    "        return self.name\n"
   ]
  },
  {
   "cell_type": "code",
   "execution_count": null,
   "metadata": {},
   "outputs": [],
   "source": [
    "from Bird import bird\n",
    "class chicken(bird):\n",
    "    def wu(self):\n",
    "        print(self.__str__(), \"Co Co~\")\n",
    "    def __str__(self):\n",
    "        #return self.name\n",
    "        #return 'different~'\n",
    "        #return 'new ' + super().__str__()\n",
    "        return '['+super().__str__()+']'\n",
    "\n",
    "#self 此類別\n",
    "#super() 父類別"
   ]
  },
  {
   "cell_type": "code",
   "execution_count": null,
   "metadata": {},
   "outputs": [],
   "source": [
    "from Chicken import chicken\n",
    "class cat(chicken): # 繼承 class chicken\n",
    "    pass"
   ]
  },
  {
   "cell_type": "code",
   "execution_count": null,
   "metadata": {},
   "outputs": [],
   "source": [
    "from Bird import bird\n",
    "from Chicken import chicken\n",
    "from Dog import cat\n",
    "\n",
    "b = bird('little bird')\n",
    "b.walk()\n",
    "\n",
    "\n",
    "c = chicken('little chicken')\n",
    "c.walk()\n",
    "c.wu()\n",
    "\n",
    "d = cat('little cat')\n",
    "d.walk()\n",
    "d.mew()"
   ]
  },
  {
   "cell_type": "markdown",
   "metadata": {},
   "source": [
    "TestBank"
   ]
  },
  {
   "cell_type": "code",
   "execution_count": null,
   "metadata": {},
   "outputs": [],
   "source": [
    "import bank\n",
    "\n",
    "acct = bank.account('Alan','00123-4560000',10000)\n",
    "bank.deposit(acct,100)\n",
    "print(bank.desc(acct))\n",
    "\n",
    "acct2 = bank.account(' Bob','00123-4560001',10000)\n",
    "bank.deposit(acct2,100)\n",
    "print(bank.desc(acct2))\n"
   ]
  },
  {
   "cell_type": "code",
   "execution_count": null,
   "metadata": {},
   "outputs": [],
   "source": [
    "from bank2 import Account\n",
    "\n",
    "acct = Account('Alan', '00123-4560000', 10000)\n",
    "acct.deposit(1000)\n",
    "print(acct)\n",
    "\n",
    "acct2 = Account('Bob', '00123-4560001', 100)\n",
    "acct2.deposit(10)\n",
    "print(acct2)"
   ]
  },
  {
   "cell_type": "code",
   "execution_count": null,
   "metadata": {},
   "outputs": [],
   "source": [
    "from bank3 import Account, account\n",
    "acct = Account('Cand', '00123-4560002', 50)\n",
    "#acct_name = Account('Cand', '00123-4560002', 50).my_name()\n",
    "\n",
    "#acct : 物件 Account : 類別\n",
    "print(acct)\n",
    "print(int(acct))\n",
    "#print(acct.balance)\n",
    "\n",
    "acct.pi = 3.14159\n",
    "print(acct.pi)\n",
    "print(acct.balance)\n",
    "#print(int(acct))\n",
    "#print('balance = ',int(acct))\n",
    "#print(abc(acct))\n",
    "\n",
    "# acct.__balance = 0\n",
    "print(acct)\n",
    "\n",
    "def hello():\n",
    "    print('Hello!')\n",
    "\n",
    "acct.hello = hello\n",
    "acct.hello()\n",
    "\n",
    "def hello2():\n",
    "    return 'Hello2'\n",
    "\n",
    "acct.hello2 = hello2\n",
    "print(acct.hello2())\n",
    "\n",
    "bcct = Account('Cand', '00123-4560002', 5555)\n",
    "\n",
    "def hello555(balance):\n",
    "    return f'balance + {balance}'\n",
    "\n",
    "\n",
    "bcct.hello555 = hello555\n",
    "print(bcct.hello555(bcct.balance))\n"
   ]
  }
 ],
 "metadata": {
  "kernelspec": {
   "display_name": "Python 3.8.10 64-bit",
   "language": "python",
   "name": "python3"
  },
  "language_info": {
   "name": "python",
   "version": "3.8.10"
  },
  "orig_nbformat": 4,
  "vscode": {
   "interpreter": {
    "hash": "f544ce1a915a9875fad91c894e2c0bcad4b7a79945aa6027ef3ad27810072aa6"
   }
  }
 },
 "nbformat": 4,
 "nbformat_minor": 2
}
